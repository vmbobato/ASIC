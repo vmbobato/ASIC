{
 "cells": [
  {
   "cell_type": "code",
   "execution_count": null,
   "metadata": {},
   "outputs": [],
   "source": [
    "import torch\n",
    "import numpy as np\n",
    "from PIL import Image\n",
    "from torchvision import transforms as T\n",
    "from transformers import SegformerForSemanticSegmentation, SegformerConfig\n",
    "import os"
   ]
  },
  {
   "cell_type": "code",
   "execution_count": 3,
   "metadata": {},
   "outputs": [],
   "source": [
    "model_path = \"../b2-ade_30_epochs.pth\"\n",
    "config_path = \"models/b2-ade-512-512/config.json\"\n",
    "image_path = 'DeepGlobe_Converted_Dataset/train/119_sat.jpg'\n",
    "output_mask_path = \"segmented_colored_mask.png\"\n",
    "device = torch.device(\"cuda\" if torch.cuda.is_available() else \"cpu\")"
   ]
  },
  {
   "cell_type": "code",
   "execution_count": 10,
   "metadata": {},
   "outputs": [
    {
     "data": {
      "text/plain": [
       "803.0"
      ]
     },
     "execution_count": 10,
     "metadata": {},
     "output_type": "execute_result"
    }
   ],
   "source": [
    "len(os.listdir('DeepGlobe_Converted_Dataset/train') + os.listdir('DeepGlobe_Converted_Dataset/valid'))/3"
   ]
  },
  {
   "cell_type": "code",
   "execution_count": 4,
   "metadata": {},
   "outputs": [],
   "source": [
    "id2label = {\n",
    "    0: \"urban_land\",\n",
    "    1: \"agriculture_land\",\n",
    "    2: \"rangeland\",\n",
    "    3: \"forest_land\",\n",
    "    4: \"water\",\n",
    "    5: \"barren_land\",\n",
    "    6: \"unknown\"\n",
    "}\n",
    "class_colors = {\n",
    "    0: (0, 255, 255),\n",
    "    1: (255, 255, 0),\n",
    "    2: (255, 0, 255),\n",
    "    3: (0, 255, 0),\n",
    "    4: (0, 0, 255),\n",
    "    5: (255, 255, 255),\n",
    "    6: (0, 0, 0)\n",
    "}"
   ]
  },
  {
   "cell_type": "code",
   "execution_count": null,
   "metadata": {},
   "outputs": [],
   "source": [
    "config = SegformerConfig.from_json_file(config_path)\n",
    "model = SegformerForSemanticSegmentation(config)\n",
    "state_dict = torch.load(model_path, map_location=device)\n",
    "model.load_state_dict(state_dict)\n",
    "model.eval().to(device)"
   ]
  },
  {
   "cell_type": "code",
   "execution_count": 6,
   "metadata": {},
   "outputs": [],
   "source": [
    "transform = T.Compose([\n",
    "    T.Resize((224, 224)),  # Match training resolution\n",
    "    T.ToTensor(),\n",
    "    T.Normalize(mean=[0.5, 0.5, 0.5], std=[0.5, 0.5, 0.5])\n",
    "])\n",
    "\n",
    "image = Image.open(image_path).convert(\"RGB\")\n",
    "orig_size = image.size  # (W, H)\n",
    "input_tensor = transform(image).unsqueeze(0).to(device)"
   ]
  },
  {
   "cell_type": "code",
   "execution_count": 7,
   "metadata": {},
   "outputs": [],
   "source": [
    "def compute_coverage(mask, num_classes=7):\n",
    "    total_pixels = mask.size\n",
    "    coverage = {}\n",
    "    for class_id in range(num_classes):\n",
    "        count = np.sum(mask == class_id)\n",
    "        percent = count / total_pixels * 100\n",
    "        coverage[id2label[class_id]] = round(percent, 2)\n",
    "    return coverage"
   ]
  },
  {
   "cell_type": "code",
   "execution_count": 8,
   "metadata": {},
   "outputs": [],
   "source": [
    "with torch.no_grad():\n",
    "    outputs = model(pixel_values=input_tensor)\n",
    "    logits = outputs.logits\n",
    "    upsampled_logits = torch.nn.functional.interpolate(\n",
    "        logits,\n",
    "        size=(orig_size[1], orig_size[0]),  # (H, W)\n",
    "        mode='bilinear',\n",
    "        align_corners=False\n",
    "    )\n",
    "    pred_mask = upsampled_logits.argmax(dim=1)[0].cpu().numpy()"
   ]
  },
  {
   "cell_type": "code",
   "execution_count": null,
   "metadata": {},
   "outputs": [],
   "source": [
    "coverage = compute_coverage(pred_mask)\n",
    "print(\"Class-wise Pixel Coverage:\")\n",
    "for label, percent in coverage.items():\n",
    "    print(f\"{label}: {percent:.2f}%\")"
   ]
  },
  {
   "cell_type": "code",
   "execution_count": 58,
   "metadata": {},
   "outputs": [],
   "source": [
    "h, w = pred_mask.shape\n",
    "color_mask = np.zeros((h, w, 3), dtype=np.uint8)\n",
    "for class_id, color in class_colors.items():\n",
    "    color_mask[pred_mask == class_id] = color\n",
    "\n",
    "Image.fromarray(color_mask).save(output_mask_path)"
   ]
  },
  {
   "cell_type": "code",
   "execution_count": 64,
   "metadata": {},
   "outputs": [
    {
     "name": "stdout",
     "output_type": "stream",
     "text": [
      "Unique values in mask: [0 1 2 3 4 5]\n"
     ]
    }
   ],
   "source": [
    "print(\"Unique values in mask:\", np.unique(pred_mask))\n"
   ]
  },
  {
   "cell_type": "code",
   "execution_count": 76,
   "metadata": {},
   "outputs": [
    {
     "data": {
      "text/plain": [
       "array([[2, 2, 2, ..., 1, 1, 1],\n",
       "       [1, 1, 1, ..., 1, 1, 1],\n",
       "       [1, 1, 1, ..., 1, 1, 1],\n",
       "       ...,\n",
       "       [1, 1, 1, ..., 1, 1, 1],\n",
       "       [1, 1, 1, ..., 1, 1, 1],\n",
       "       [1, 1, 1, ..., 1, 1, 1]], dtype=uint8)"
      ]
     },
     "execution_count": 76,
     "metadata": {},
     "output_type": "execute_result"
    }
   ],
   "source": [
    "np.array(Image.open(\"DeepGlobe_Converted_Dataset/train/119_mask.png\"))"
   ]
  }
 ],
 "metadata": {
  "kernelspec": {
   "display_name": "Python 3",
   "language": "python",
   "name": "python3"
  },
  "language_info": {
   "codemirror_mode": {
    "name": "ipython",
    "version": 3
   },
   "file_extension": ".py",
   "mimetype": "text/x-python",
   "name": "python",
   "nbconvert_exporter": "python",
   "pygments_lexer": "ipython3",
   "version": "3.11.9"
  }
 },
 "nbformat": 4,
 "nbformat_minor": 2
}
